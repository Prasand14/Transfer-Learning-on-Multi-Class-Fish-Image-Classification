{
 "cells": [
  {
   "cell_type": "code",
   "execution_count": 4,
   "metadata": {
    "collapsed": true
   },
   "outputs": [],
   "source": [
    "import os\n",
    "import numpy as np\n",
    "import shutil\n",
    "import seaborn as sns\n",
    "import matplotlib.pyplot as plt\n",
    "from shutil import copyfile\n",
    "import pandas as pd\n",
    "%matplotlib inline\n",
    "\n",
    "train_dir = \"train/\""
   ]
  },
  {
   "cell_type": "code",
   "execution_count": 5,
   "metadata": {},
   "outputs": [],
   "source": [
    "# Create folders for  training data and validation randomly splitted \n",
    "nw_train = os.mkdir(\"nw_train\")\n",
    "nw_valid = os.mkdir(\"nw_valid\")"
   ]
  },
  {
   "cell_type": "code",
   "execution_count": 6,
   "metadata": {
    "collapsed": true
   },
   "outputs": [],
   "source": [
    "nw_train_dir = \"fish/nw_train/\"\n",
    "nw_valid_dir = \"fish/nw_valid/\""
   ]
  },
  {
   "cell_type": "code",
   "execution_count": 7,
   "metadata": {},
   "outputs": [
    {
     "name": "stdout",
     "output_type": "stream",
     "text": [
      "ALB  :  1719\n",
      "BET  :  200\n",
      "DOL  :  117\n",
      "LAG  :  67\n",
      "NoF  :  465\n",
      "OTHER  :  299\n",
      "SHARK  :  176\n",
      "YFT  :  734\n",
      "Total images present in the training dataset :  3777\n"
     ]
    },
    {
     "data": {
      "image/png": "[encoded data removed]",
      "text/plain": [
       "<matplotlib.figure.Figure at 0x1b405307198>"
      ]
     },
     "metadata": {},
     "output_type": "display_data"
    }
   ],
   "source": [
    "#classes = os.listdir(train_dir) # Get all the classes from the original train directory\n",
    "species_count= []\n",
    "classes = []\n",
    "\n",
    "for cls in os.listdir(train_dir):\n",
    "    if not (cls == '.DS_Store'):\n",
    "        classes.append(cls)    \n",
    "classes.sort()\n",
    "\n",
    "for cls in classes:\n",
    "        species_count.append(len(os.listdir(train_dir+cls)))\n",
    "\n",
    "for index in range(len(classes)):\n",
    "    print(classes[index],\" : \", species_count[index])\n",
    "\n",
    "#Total Images Count\n",
    "print(\"Total images present in the training dataset : \",sum(species_count))\n",
    "\n",
    "#Train Dataset Distribution\n",
    "#Creation of a Bar Plot\n",
    "x = range(len(classes))\n",
    "plt.bar(x, species_count)\n",
    "plt.xticks(x, classes, rotation=90)\n",
    "plt.suptitle('Train Dataset Distribution')\n",
    "plt.xlabel('Species')\n",
    "plt.ylabel('Images found')\n",
    "plt.show()"
   ]
  },
  {
   "cell_type": "code",
   "execution_count": 11,
   "metadata": {
    "collapsed": true
   },
   "outputs": [],
   "source": [
    "#create class folders in training and validation directories\n",
    "for category in classes:\n",
    "    if not (category == \".DS_Store\"): #Ignoring .DS_Store class, as it is irrelevant.\n",
    "        os.mkdir(nw_train_dir+category)\n",
    "        os.mkdir(nw_valid_dir+category)"
   ]
  },
  {
   "cell_type": "code",
   "execution_count": 12,
   "metadata": {
    "collapsed": true
   },
   "outputs": [],
   "source": [
    "#Creation of Validation and New Training Datasets from Training Dataset\n",
    "for species in classes:\n",
    "    \n",
    "    class_root_path = train_dir + species + \"/\"\n",
    "    nw_train_path = nw_train_dir + species + \"/\"\n",
    "    nw_valid_path = nw_valid_dir + species + \"/\"\n",
    "    \n",
    "    validation_threshold = 0.7\n",
    "    split_index = int(validation_threshold * species_count)\n",
    "    \n",
    "    #REATING A LIST OF IMAGE NAMES IN THE SPECIES FOLDER\n",
    "    species_image_list = os.listdir(class_root_path)\n",
    "    #Before spliting the data set, we shuffle it randomnly for generalisation\n",
    "    np.random.shuffle(species_image_list)\n",
    "    \n",
    "    #SEGREGATING THE LIST INTO TRAIN AND VALID DATASET\n",
    "    #IN RATIO OF 7:3 = TRAIN:VALID\n",
    "    \n",
    "    train = species_image_list[:split_index]\n",
    "    valid = species_image_list[split_index:]\n",
    "    \n",
    "    #COPYING THE IMAGES FROM SOURCE TO NEW TRAIN FOLDER\n",
    "    for img in train:\n",
    "        src = class_root_path + img\n",
    "        destine = nw_train_path + img\n",
    "        copyfile(src, destine)\n",
    "    \n",
    "    #COPYING THE IMAGES FROM SOURCE TO VALID FOLDER\n",
    "    for img in valid:\n",
    "        src = class_root_path + img\n",
    "        destine = nw_valid_path + img\n",
    "        copyfile(src, destine)"
   ]
  },
  {
   "cell_type": "code",
   "execution_count": 9,
   "metadata": {},
   "outputs": [
    {
     "name": "stdout",
     "output_type": "stream",
     "text": [
      "Total images present in the training dataset :  3777\n",
      "Train Dataset Count : 2640\n",
      "Valid Dataset Count : 1137\n"
     ]
    }
   ],
   "source": [
    "#Creation of Validation and New Training Datasets from Training Dataset\n",
    "train_count = []\n",
    "valid_count = []\n",
    "\n",
    "for species in classes:\n",
    "    train_count.append(len(os.listdir(nw_train_dir+species)))\n",
    "    valid_count.append(len(os.listdir(nw_valid_dir+species)))\n",
    "\n",
    "#Total Images Count\n",
    "print(\"Total images present in the training dataset : \",sum(species_count))\n",
    "print(\"Train Dataset Count :\",sum(train_count))\n",
    "print(\"Valid Dataset Count :\",sum(valid_count))    "
   ]
  },
  {
   "cell_type": "code",
   "execution_count": 17,
   "metadata": {},
   "outputs": [
    {
     "data": {
      "text/plain": [
       "<matplotlib.axes._subplots.AxesSubplot at 0x7f1fc77a7048>"
      ]
     },
     "execution_count": 17,
     "metadata": {},
     "output_type": "execute_result"
    },
    {
     "name": "stderr",
     "output_type": "stream",
     "text": [
      "/home/aind2/anaconda3/lib/python3.6/site-packages/matplotlib/font_manager.py:1297: UserWarning: findfont: Font family ['sans-serif'] not found. Falling back to DejaVu Sans\n",
      "  (prop.get_family(), self.defaultFamily[fontext]))\n"
     ]
    },
    {
     "data": {
      "image/png": "[encoded data removed]",
      "text/plain": [
       "<matplotlib.figure.Figure at 0x7f1fc772c978>"
      ]
     },
     "metadata": {},
     "output_type": "display_data"
    }
   ],
   "source": [
    "df = pd.DataFrame(data={'Class': classes,\n",
    "         'Training_Set':train_count,\n",
    "        'Validation_Set':valid_count})\n",
    "df.plot.bar(x = 'Class', y = ['Training_Set', 'Validation_Set'], rot = 40,title=\"Train-Valid Dataset Distribution\")"
   ]
  }
 ],
 "metadata": {
  "anaconda-cloud": {},
  "kernelspec": {
   "display_name": "Python 3",
   "language": "python",
   "name": "python3"
  },
  "language_info": {
   "codemirror_mode": {
    "name": "ipython",
    "version": 3
   },
   "file_extension": ".py",
   "mimetype": "text/x-python",
   "name": "python",
   "nbconvert_exporter": "python",
   "pygments_lexer": "ipython3",
   "version": "3.6.3"
  }
 },
 "nbformat": 4,
 "nbformat_minor": 2
}
